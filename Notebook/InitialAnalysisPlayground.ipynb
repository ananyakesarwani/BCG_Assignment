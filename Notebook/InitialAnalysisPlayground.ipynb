{
  "cells": [
    {
      "cell_type": "code",
      "execution_count": 1,
      "metadata": {
        "colab": {
          "base_uri": "https://localhost:8080/"
        },
        "id": "otag2VuDIlzd",
        "outputId": "6d6d0f93-3638-4bd5-ab5a-9a60bacdf040"
      },
      "outputs": [
        {
          "name": "stdout",
          "output_type": "stream",
          "text": [
            "Requirement already satisfied: pyspark in c:\\users\\admin\\appdata\\local\\programs\\python\\python310\\lib\\site-packages (3.3.1)Note: you may need to restart the kernel to use updated packages.\n",
            "\n",
            "Requirement already satisfied: py4j==0.10.9.5 in c:\\users\\admin\\appdata\\local\\programs\\python\\python310\\lib\\site-packages (from pyspark) (0.10.9.5)\n",
            "Requirement already satisfied: pyyaml in c:\\users\\admin\\appdata\\local\\programs\\python\\python310\\lib\\site-packages (6.0)\n",
            "Note: you may need to restart the kernel to use updated packages.\n"
          ]
        }
      ],
      "source": [
        "!pip install pyspark\n",
        "!pip install pyyaml\n",
        "from pyspark.sql import SparkSession, Window, Row\n",
        "from pyspark.sql.functions import col, row_number"
      ]
    },
    {
      "cell_type": "code",
      "execution_count": 2,
      "metadata": {
        "id": "bNB7zcG_GMxt"
      },
      "outputs": [],
      "source": [
        "spark = SparkSession.builder.appName(\"USVehicleAccidentAnalysis\").getOrCreate()"
      ]
    },
    {
      "cell_type": "code",
      "execution_count": 8,
      "metadata": {
        "id": "TcOg3lHMGQ3r"
      },
      "outputs": [
        {
          "ename": "AnalysisException",
          "evalue": "Path does not exist: file:/Data/Damages_use.csv",
          "output_type": "error",
          "traceback": [
            "\u001b[1;31m---------------------------------------------------------------------------\u001b[0m",
            "\u001b[1;31mAnalysisException\u001b[0m                         Traceback (most recent call last)",
            "Cell \u001b[1;32mIn [8], line 2\u001b[0m\n\u001b[0;32m      1\u001b[0m Charges_df \u001b[39m=\u001b[39m spark\u001b[39m.\u001b[39mread\u001b[39m.\u001b[39moption(\u001b[39m\"\u001b[39m\u001b[39minferSchema\u001b[39m\u001b[39m\"\u001b[39m, \u001b[39m\"\u001b[39m\u001b[39mtrue\u001b[39m\u001b[39m\"\u001b[39m)\u001b[39m.\u001b[39mcsv(\u001b[39m'\u001b[39m\u001b[39mD:\u001b[39m\u001b[39m\\\u001b[39m\u001b[39mBCG_Assignment\u001b[39m\u001b[39m\\\u001b[39m\u001b[39mData\u001b[39m\u001b[39m\\\u001b[39m\u001b[39mCharges_use.csv\u001b[39m\u001b[39m'\u001b[39m, header\u001b[39m=\u001b[39m\u001b[39mTrue\u001b[39;00m)\n\u001b[1;32m----> 2\u001b[0m Damages_df \u001b[39m=\u001b[39m spark\u001b[39m.\u001b[39;49mread\u001b[39m.\u001b[39;49moption(\u001b[39m\"\u001b[39;49m\u001b[39minferSchema\u001b[39;49m\u001b[39m\"\u001b[39;49m, \u001b[39m\"\u001b[39;49m\u001b[39mtrue\u001b[39;49m\u001b[39m\"\u001b[39;49m)\u001b[39m.\u001b[39;49mcsv(\u001b[39m'\u001b[39;49m\u001b[39m/Data/Damages_use.csv\u001b[39;49m\u001b[39m'\u001b[39;49m, header\u001b[39m=\u001b[39;49m\u001b[39mTrue\u001b[39;49;00m)\n\u001b[0;32m      3\u001b[0m Endorse_df \u001b[39m=\u001b[39m spark\u001b[39m.\u001b[39mread\u001b[39m.\u001b[39moption(\u001b[39m\"\u001b[39m\u001b[39minferSchema\u001b[39m\u001b[39m\"\u001b[39m, \u001b[39m\"\u001b[39m\u001b[39mtrue\u001b[39m\u001b[39m\"\u001b[39m)\u001b[39m.\u001b[39mcsv(\u001b[39m'\u001b[39m\u001b[39m/Data/Endorse_use.csv\u001b[39m\u001b[39m'\u001b[39m, header\u001b[39m=\u001b[39m\u001b[39mTrue\u001b[39;00m)\n\u001b[0;32m      4\u001b[0m Primary_Person_df \u001b[39m=\u001b[39m spark\u001b[39m.\u001b[39mread\u001b[39m.\u001b[39moption(\u001b[39m\"\u001b[39m\u001b[39minferSchema\u001b[39m\u001b[39m\"\u001b[39m, \u001b[39m\"\u001b[39m\u001b[39mtrue\u001b[39m\u001b[39m\"\u001b[39m)\u001b[39m.\u001b[39mcsv(\u001b[39m'\u001b[39m\u001b[39m/Data/Primary_Person_use.csv\u001b[39m\u001b[39m'\u001b[39m, header\u001b[39m=\u001b[39m\u001b[39mTrue\u001b[39;00m)\n",
            "File \u001b[1;32mc:\\Users\\Admin\\AppData\\Local\\Programs\\Python\\Python310\\lib\\site-packages\\pyspark\\sql\\readwriter.py:535\u001b[0m, in \u001b[0;36mDataFrameReader.csv\u001b[1;34m(self, path, schema, sep, encoding, quote, escape, comment, header, inferSchema, ignoreLeadingWhiteSpace, ignoreTrailingWhiteSpace, nullValue, nanValue, positiveInf, negativeInf, dateFormat, timestampFormat, maxColumns, maxCharsPerColumn, maxMalformedLogPerPartition, mode, columnNameOfCorruptRecord, multiLine, charToEscapeQuoteEscaping, samplingRatio, enforceSchema, emptyValue, locale, lineSep, pathGlobFilter, recursiveFileLookup, modifiedBefore, modifiedAfter, unescapedQuoteHandling)\u001b[0m\n\u001b[0;32m    533\u001b[0m \u001b[39mif\u001b[39;00m \u001b[39mtype\u001b[39m(path) \u001b[39m==\u001b[39m \u001b[39mlist\u001b[39m:\n\u001b[0;32m    534\u001b[0m     \u001b[39massert\u001b[39;00m \u001b[39mself\u001b[39m\u001b[39m.\u001b[39m_spark\u001b[39m.\u001b[39m_sc\u001b[39m.\u001b[39m_jvm \u001b[39mis\u001b[39;00m \u001b[39mnot\u001b[39;00m \u001b[39mNone\u001b[39;00m\n\u001b[1;32m--> 535\u001b[0m     \u001b[39mreturn\u001b[39;00m \u001b[39mself\u001b[39m\u001b[39m.\u001b[39m_df(\u001b[39mself\u001b[39;49m\u001b[39m.\u001b[39;49m_jreader\u001b[39m.\u001b[39;49mcsv(\u001b[39mself\u001b[39;49m\u001b[39m.\u001b[39;49m_spark\u001b[39m.\u001b[39;49m_sc\u001b[39m.\u001b[39;49m_jvm\u001b[39m.\u001b[39;49mPythonUtils\u001b[39m.\u001b[39;49mtoSeq(path)))\n\u001b[0;32m    536\u001b[0m \u001b[39melif\u001b[39;00m \u001b[39misinstance\u001b[39m(path, RDD):\n\u001b[0;32m    538\u001b[0m     \u001b[39mdef\u001b[39;00m \u001b[39mfunc\u001b[39m(iterator):\n",
            "File \u001b[1;32mc:\\Users\\Admin\\AppData\\Local\\Programs\\Python\\Python310\\lib\\site-packages\\py4j\\java_gateway.py:1321\u001b[0m, in \u001b[0;36mJavaMember.__call__\u001b[1;34m(self, *args)\u001b[0m\n\u001b[0;32m   1315\u001b[0m command \u001b[39m=\u001b[39m proto\u001b[39m.\u001b[39mCALL_COMMAND_NAME \u001b[39m+\u001b[39m\\\n\u001b[0;32m   1316\u001b[0m     \u001b[39mself\u001b[39m\u001b[39m.\u001b[39mcommand_header \u001b[39m+\u001b[39m\\\n\u001b[0;32m   1317\u001b[0m     args_command \u001b[39m+\u001b[39m\\\n\u001b[0;32m   1318\u001b[0m     proto\u001b[39m.\u001b[39mEND_COMMAND_PART\n\u001b[0;32m   1320\u001b[0m answer \u001b[39m=\u001b[39m \u001b[39mself\u001b[39m\u001b[39m.\u001b[39mgateway_client\u001b[39m.\u001b[39msend_command(command)\n\u001b[1;32m-> 1321\u001b[0m return_value \u001b[39m=\u001b[39m get_return_value(\n\u001b[0;32m   1322\u001b[0m     answer, \u001b[39mself\u001b[39;49m\u001b[39m.\u001b[39;49mgateway_client, \u001b[39mself\u001b[39;49m\u001b[39m.\u001b[39;49mtarget_id, \u001b[39mself\u001b[39;49m\u001b[39m.\u001b[39;49mname)\n\u001b[0;32m   1324\u001b[0m \u001b[39mfor\u001b[39;00m temp_arg \u001b[39min\u001b[39;00m temp_args:\n\u001b[0;32m   1325\u001b[0m     temp_arg\u001b[39m.\u001b[39m_detach()\n",
            "File \u001b[1;32mc:\\Users\\Admin\\AppData\\Local\\Programs\\Python\\Python310\\lib\\site-packages\\pyspark\\sql\\utils.py:196\u001b[0m, in \u001b[0;36mcapture_sql_exception.<locals>.deco\u001b[1;34m(*a, **kw)\u001b[0m\n\u001b[0;32m    192\u001b[0m converted \u001b[39m=\u001b[39m convert_exception(e\u001b[39m.\u001b[39mjava_exception)\n\u001b[0;32m    193\u001b[0m \u001b[39mif\u001b[39;00m \u001b[39mnot\u001b[39;00m \u001b[39misinstance\u001b[39m(converted, UnknownException):\n\u001b[0;32m    194\u001b[0m     \u001b[39m# Hide where the exception came from that shows a non-Pythonic\u001b[39;00m\n\u001b[0;32m    195\u001b[0m     \u001b[39m# JVM exception message.\u001b[39;00m\n\u001b[1;32m--> 196\u001b[0m     \u001b[39mraise\u001b[39;00m converted \u001b[39mfrom\u001b[39;00m \u001b[39mNone\u001b[39m\n\u001b[0;32m    197\u001b[0m \u001b[39melse\u001b[39;00m:\n\u001b[0;32m    198\u001b[0m     \u001b[39mraise\u001b[39;00m\n",
            "\u001b[1;31mAnalysisException\u001b[0m: Path does not exist: file:/Data/Damages_use.csv"
          ]
        }
      ],
      "source": [
        "Charges_df = spark.read.option(\"inferSchema\", \"true\").csv('/content/Charges_use.csv', header=True)\n",
        "Damages_df = spark.read.option(\"inferSchema\", \"true\").csv('/content/Damages_use.csv', header=True)\n",
        "Endorse_df = spark.read.option(\"inferSchema\", \"true\").csv('/content/Endorse_use.csv', header=True)\n",
        "Primary_Person_df = spark.read.option(\"inferSchema\", \"true\").csv('/content/Primary_Person_use.csv', header=True)\n",
        "Restrict_df = spark.read.option(\"inferSchema\", \"true\").csv('/content/Restrict_use.csv', header=True)\n",
        "Units_df = spark.read.option(\"inferSchema\", \"true\").csv('/content/Units_use.csv', header=True)"
      ]
    },
    {
      "cell_type": "code",
      "execution_count": null,
      "metadata": {
        "colab": {
          "base_uri": "https://localhost:8080/"
        },
        "id": "orO3rDwfGcOw",
        "outputId": "4a296aeb-da5e-4135-81bf-c6043d999e23"
      },
      "outputs": [
        {
          "name": "stdout",
          "output_type": "stream",
          "text": [
            "+--------+--------+--------+--------------------+------------+\n",
            "|CRASH_ID|UNIT_NBR|PRSN_NBR|              CHARGE|CITATION_NBR|\n",
            "+--------+--------+--------+--------------------+------------+\n",
            "|14768622|       1|       1|DRIVING WHILE INT...|        null|\n",
            "|14838637|       1|       1|                 DWI|  1600000015|\n",
            "|14838641|       1|       1|RAN RED LIGHT SOL...|      L20440|\n",
            "|14838641|       2|       1|NO DRIVER'S LICEN...|      L23141|\n",
            "|14838668|       1|       1|DRIVING WHILE INT...|TX4IC50SRJD3|\n",
            "+--------+--------+--------+--------------------+------------+\n",
            "only showing top 5 rows\n",
            "\n"
          ]
        }
      ],
      "source": [
        "Charges_df.show(5)"
      ]
    },
    {
      "cell_type": "code",
      "execution_count": null,
      "metadata": {
        "colab": {
          "base_uri": "https://localhost:8080/"
        },
        "id": "57rqgo1mFuzG",
        "outputId": "11e4b69b-09e7-48ab-f2f0-a6e8d8796e44"
      },
      "outputs": [
        {
          "name": "stdout",
          "output_type": "stream",
          "text": [
            "+--------+----------------+\n",
            "|CRASH_ID|DAMAGED_PROPERTY|\n",
            "+--------+----------------+\n",
            "|14768622|         MAILBOX|\n",
            "|14768622|     YARD, GRASS|\n",
            "|14838668|       GUARDRAIL|\n",
            "|14838685|       ROAD SIGN|\n",
            "|14838693|    2009 MAZDA 3|\n",
            "+--------+----------------+\n",
            "only showing top 5 rows\n",
            "\n"
          ]
        }
      ],
      "source": [
        "Damages_df.show(5)"
      ]
    },
    {
      "cell_type": "code",
      "execution_count": null,
      "metadata": {
        "colab": {
          "base_uri": "https://localhost:8080/"
        },
        "id": "Zv_Ti9MxF9lR",
        "outputId": "3f2c4ef5-d1a6-417a-cd7f-7a14bf8f01b6"
      },
      "outputs": [
        {
          "name": "stdout",
          "output_type": "stream",
          "text": [
            "+--------+--------+------------------+\n",
            "|CRASH_ID|UNIT_NBR|DRVR_LIC_ENDORS_ID|\n",
            "+--------+--------+------------------+\n",
            "|14768622|       1|              NONE|\n",
            "|14838637|       1|              NONE|\n",
            "|14838637|       2|              NONE|\n",
            "|14838641|       1|              NONE|\n",
            "|14838641|       2|        UNLICENSED|\n",
            "+--------+--------+------------------+\n",
            "only showing top 5 rows\n",
            "\n"
          ]
        }
      ],
      "source": [
        "Endorse_df.show(5)"
      ]
    },
    {
      "cell_type": "code",
      "execution_count": null,
      "metadata": {
        "colab": {
          "base_uri": "https://localhost:8080/"
        },
        "id": "k0PqtZpsLSj2",
        "outputId": "00892da6-c88c-4745-dcd0-c51f2fe9a2e1"
      },
      "outputs": [
        {
          "name": "stdout",
          "output_type": "stream",
          "text": [
            "+--------+--------+--------+------------+------------------+--------------------+--------+-----------------+------------+------------+-------------------+-----------------+--------------+-----------+---------------------+----------------+------------------+---------------------+----------------+-----------------+---------------+---------------+------------------+--------------+-------------+--------------+-------------+---------+--------------------+-----------------+------------------+--------+\n",
            "|CRASH_ID|UNIT_NBR|PRSN_NBR|PRSN_TYPE_ID|PRSN_OCCPNT_POS_ID|   PRSN_INJRY_SEV_ID|PRSN_AGE|PRSN_ETHNICITY_ID|PRSN_GNDR_ID|PRSN_EJCT_ID|       PRSN_REST_ID|   PRSN_AIRBAG_ID|PRSN_HELMET_ID|PRSN_SOL_FL|PRSN_ALC_SPEC_TYPE_ID|PRSN_ALC_RSLT_ID|PRSN_BAC_TEST_RSLT|PRSN_DRG_SPEC_TYPE_ID|PRSN_DRG_RSLT_ID|DRVR_DRG_CAT_1_ID|PRSN_DEATH_TIME|INCAP_INJRY_CNT|NONINCAP_INJRY_CNT|POSS_INJRY_CNT|NON_INJRY_CNT|UNKN_INJRY_CNT|TOT_INJRY_CNT|DEATH_CNT|    DRVR_LIC_TYPE_ID|DRVR_LIC_STATE_ID|   DRVR_LIC_CLS_ID|DRVR_ZIP|\n",
            "+--------+--------+--------+------------+------------------+--------------------+--------+-----------------+------------+------------+-------------------+-----------------+--------------+-----------+---------------------+----------------+------------------+---------------------+----------------+-----------------+---------------+---------------+------------------+--------------+-------------+--------------+-------------+---------+--------------------+-----------------+------------------+--------+\n",
            "|14768622|       1|       1|      DRIVER|        FRONT LEFT|         NOT INJURED|      27|         HISPANIC|        MALE|          NO|               NONE|DEPLOYED MULTIPLE|NOT APPLICABLE|          N|                BLOOD|        Positive|             0.225|                 NONE|  NOT APPLICABLE|   NOT APPLICABLE|           null|              0|                 0|             0|            1|             0|            0|        0|      DRIVER LICENSE|            Texas|           CLASS C|   77357|\n",
            "|14838637|       1|       1|      DRIVER|        FRONT LEFT|         NOT INJURED|      31|            WHITE|        MALE|          NO|SHOULDER & LAP BELT|     NOT DEPLOYED|NOT APPLICABLE|          N|               BREATH|        Positive|              0.21|                 NONE|  NOT APPLICABLE|   NOT APPLICABLE|           null|              0|                 0|             0|            1|             0|            0|        0|      DRIVER LICENSE|         New York|OTHER/OUT OF STATE|   13830|\n",
            "|14838637|       2|       1|      DRIVER|        FRONT LEFT|         NOT INJURED|      41|            BLACK|        MALE|          NO|SHOULDER & LAP BELT|     NOT DEPLOYED|NOT APPLICABLE|          N|                 NONE|              NA|                NA|                 NONE|  NOT APPLICABLE|   NOT APPLICABLE|           null|              0|                 0|             0|            1|             0|            0|        0|COMMERCIAL DRIVER...|            Texas|           CLASS A|   78934|\n",
            "|14838641|       1|       1|      DRIVER|        FRONT LEFT|     POSSIBLE INJURY|      32|            WHITE|        MALE|          NO|SHOULDER & LAP BELT|DEPLOYED MULTIPLE|NOT APPLICABLE|          N|                 NONE|              NA|                NA|                 NONE|  NOT APPLICABLE|   NOT APPLICABLE|           null|              0|                 0|             1|            0|             0|            1|        0|      DRIVER LICENSE|            Texas|           CLASS C|   76520|\n",
            "|14838641|       2|       1|      DRIVER|        FRONT LEFT|NON-INCAPACITATIN...|      34|            BLACK|      FEMALE|          NO|SHOULDER & LAP BELT|DEPLOYED MULTIPLE|NOT APPLICABLE|          N|                 NONE|              NA|                NA|                 NONE|  NOT APPLICABLE|   NOT APPLICABLE|           null|              0|                 1|             0|            0|             0|            1|        0|             ID CARD|            Texas|        UNLICENSED|   76707|\n",
            "+--------+--------+--------+------------+------------------+--------------------+--------+-----------------+------------+------------+-------------------+-----------------+--------------+-----------+---------------------+----------------+------------------+---------------------+----------------+-----------------+---------------+---------------+------------------+--------------+-------------+--------------+-------------+---------+--------------------+-----------------+------------------+--------+\n",
            "only showing top 5 rows\n",
            "\n"
          ]
        }
      ],
      "source": [
        "Primary_Person_df.show(5)"
      ]
    },
    {
      "cell_type": "code",
      "execution_count": null,
      "metadata": {
        "colab": {
          "base_uri": "https://localhost:8080/"
        },
        "id": "aj7wE7gYWwq6",
        "outputId": "99b3a0f5-01d8-49d8-c24d-0edfd24f94b7"
      },
      "outputs": [
        {
          "name": "stdout",
          "output_type": "stream",
          "text": [
            "+--------+--------+--------------------+\n",
            "|CRASH_ID|UNIT_NBR| DRVR_LIC_RESTRIC_ID|\n",
            "+--------+--------+--------------------+\n",
            "|14768622|       1|                NONE|\n",
            "|14838637|       1|  OTHER/OUT OF STATE|\n",
            "|14838637|       2|                NONE|\n",
            "|14838641|       1|WITH CORRECTIVE L...|\n",
            "|14838641|       2|          UNLICENSED|\n",
            "+--------+--------+--------------------+\n",
            "only showing top 5 rows\n",
            "\n"
          ]
        }
      ],
      "source": [
        "Restrict_df.show(5)"
      ]
    },
    {
      "cell_type": "code",
      "execution_count": null,
      "metadata": {
        "colab": {
          "base_uri": "https://localhost:8080/"
        },
        "id": "grwpm_OlXO2F",
        "outputId": "af4880b0-91e8-426b-8b67-e9dcd8d3abc1"
      },
      "outputs": [
        {
          "name": "stdout",
          "output_type": "stream",
          "text": [
            "+--------+--------+-------------+-------------+----------+----------------+-----------------+------------+------------+------------+----------+--------------------+---------------+--------+-----------------+--------------------+--------------------+-----------------+--------------+--------------------+-----------------+--------------+------------------+---------------+--------------------+--------------------+------------------+-------------------+---------------+---------------------+---------------+------------------+--------------+-------------+--------------+-------------+---------+\n",
            "|CRASH_ID|UNIT_NBR| UNIT_DESC_ID|VEH_PARKED_FL|VEH_HNR_FL|VEH_LIC_STATE_ID|              VIN|VEH_MOD_YEAR|VEH_COLOR_ID| VEH_MAKE_ID|VEH_MOD_ID|    VEH_BODY_STYL_ID|EMER_RESPNDR_FL|OWNR_ZIP|FIN_RESP_PROOF_ID|    FIN_RESP_TYPE_ID|  VEH_DMAG_AREA_1_ID|VEH_DMAG_SCL_1_ID|FORCE_DIR_1_ID|  VEH_DMAG_AREA_2_ID|VEH_DMAG_SCL_2_ID|FORCE_DIR_2_ID|VEH_INVENTORIED_FL|VEH_TRANSP_NAME|     VEH_TRANSP_DEST|  CONTRIB_FACTR_1_ID|CONTRIB_FACTR_2_ID|CONTRIB_FACTR_P1_ID|VEH_TRVL_DIR_ID|FIRST_HARM_EVT_INV_ID|INCAP_INJRY_CNT|NONINCAP_INJRY_CNT|POSS_INJRY_CNT|NON_INJRY_CNT|UNKN_INJRY_CNT|TOT_INJRY_CNT|DEATH_CNT|\n",
            "+--------+--------+-------------+-------------+----------+----------------+-----------------+------------+------------+------------+----------+--------------------+---------------+--------+-----------------+--------------------+--------------------+-----------------+--------------+--------------------+-----------------+--------------+------------------+---------------+--------------------+--------------------+------------------+-------------------+---------------+---------------------+---------------+------------------+--------------+-------------+--------------+-------------+---------+\n",
            "|14768622|       1|MOTOR VEHICLE|            N|         N|              TX|4S2CK57D1X4381118|        1999|         GRY|       ISUZU|     AMIGO|PASSENGER CAR, 4-...|              Y|   77357|                2|                  NA|FRONT END DAMAGE ...|        DAMAGED 3|             1|LEFT SIDE AND TOP...|        DAMAGED 4|             3|                 Y|VALENTIN TOWING|20288 FM 1314 POR...|UNDER INFLUENCE -...|                NA|                 NA|           EAST|                    Y|              0|                 0|             0|            1|             0|            0|        0|\n",
            "|14838637|       1|MOTOR VEHICLE|            N|         N|              TX|WVWAN7AN6DE536582|          NA|         GRY|  VOLKSWAGEN|        CC|PASSENGER CAR, 4-...|              N|   13830|                1|PROOF OF LIABILIT...|FRONT END DAMAGE ...|        DAMAGED 3|            12|                  NA|               NA|            NA|                 N|     A-1 TOWING|    4710 ELLEN TROUT|   HAD BEEN DRINKING|                NA|                 NA|          SOUTH|                    Y|              0|                 0|             0|            1|             0|            0|        0|\n",
            "|14838637|       2|MOTOR VEHICLE|            N|         N|              TX|1FUJA6CG24LM14889|        2004|         RED|FREIGHTLINER|        NA|               TRUCK|              N|   78934|                1|PROOF OF LIABILIT...|RIGHT SIDE DAMAGE...|        DAMAGED 2|             3|                  NA|               NA|            NA|                 N|    DRIVEN AWAY|           BY DRIVER|                NONE|                NA|                 NA|          SOUTH|                    Y|              0|                 0|             0|            1|             0|            0|        0|\n",
            "|14838637|       2|MOTOR VEHICLE|            N|         N|              TX|1FUJA6CG24LM14889|        2004|         RED|FREIGHTLINER|        NA|               TRUCK|              N|   78934|                1|PROOF OF LIABILIT...|RIGHT SIDE DAMAGE...|        DAMAGED 2|             3|                  NA|               NA|            NA|                 N|    DRIVEN AWAY|           BY DRIVER|                NONE|                NA|                 NA|          SOUTH|                    Y|              0|                 0|             0|            1|             0|            0|        0|\n",
            "|14838637|       3|TOWED/TRAILER|         null|      null|              NA|             null|          NA|          NA|          NA|        NA|                  NA|           null|   78934|               NA|                  NA|                  NA|               NA|            NA|                  NA|               NA|            NA|              null|           null|                null|                NONE|                NA|                 NA| NOT APPLICABLE|                    N|              0|                 0|             0|            0|             0|            0|        0|\n",
            "+--------+--------+-------------+-------------+----------+----------------+-----------------+------------+------------+------------+----------+--------------------+---------------+--------+-----------------+--------------------+--------------------+-----------------+--------------+--------------------+-----------------+--------------+------------------+---------------+--------------------+--------------------+------------------+-------------------+---------------+---------------------+---------------+------------------+--------------+-------------+--------------+-------------+---------+\n",
            "only showing top 5 rows\n",
            "\n"
          ]
        }
      ],
      "source": [
        "Units_df.show(5)"
      ]
    },
    {
      "cell_type": "code",
      "execution_count": null,
      "metadata": {
        "id": "oZRFtCzcYbBu"
      },
      "outputs": [],
      "source": [
        "Primary_Person_df.select(\"PRSN_INJRY_SEV_ID\").distinct().show(truncate = False)"
      ]
    },
    {
      "cell_type": "code",
      "execution_count": null,
      "metadata": {
        "id": "JBtEQkaMYbPn"
      },
      "outputs": [],
      "source": [
        "Primary_Person_df.select(\"PRSN_GNDR_ID\").distinct().show(truncate = False)"
      ]
    },
    {
      "cell_type": "code",
      "execution_count": null,
      "metadata": {
        "colab": {
          "base_uri": "https://localhost:8080/"
        },
        "id": "b_wbOsTEXpEn",
        "outputId": "004c1158-8d55-42e7-a9b0-c0daa5166565"
      },
      "outputs": [
        {
          "data": {
            "text/plain": [
              "True"
            ]
          },
          "execution_count": 8,
          "metadata": {},
          "output_type": "execute_result"
        }
      ],
      "source": [
        "df2 = spark.createDataFrame([Row()])\n",
        "type(df2) == type(df1)"
      ]
    },
    {
      "cell_type": "code",
      "execution_count": null,
      "metadata": {
        "colab": {
          "base_uri": "https://localhost:8080/"
        },
        "id": "0plsUX9kGCzU",
        "outputId": "925e5b78-fc9e-4956-d793-4201ad5fcd21"
      },
      "outputs": [
        {
          "name": "stdout",
          "output_type": "stream",
          "text": [
            "<class 'int'>\n",
            "<class 'pyspark.sql.dataframe.DataFrame'>\n"
          ]
        }
      ],
      "source": [
        "#Find the number of crashes (accidents) in which number of persons killed are male?\n",
        "ans = Primary_Person_df.filter((Primary_Person_df.PRSN_INJRY_SEV_ID==\"KILLED\") & (Primary_Person_df.PRSN_GNDR_ID == \"MALE\")).count()\n",
        "print(type(ans))\n",
        "df1 = spark.createDataFrame([Row(TOTAL_MALE_CASUALITIES=ans)])\n",
        "print(type(df2))\n",
        "df1.write.format('com.databricks.spark.csv').save(\"../myfile.csv\",header = 'true')"
      ]
    },
    {
      "cell_type": "code",
      "execution_count": null,
      "metadata": {
        "id": "Tw4o1CDQ-Oyo"
      },
      "outputs": [],
      "source": [
        "import csv\n",
        "data = [[1, 'Number of crashes', df]]\n",
        "with open('output.csv','w') as out:\n",
        "    for row in data:\n",
        "        for col in row:\n",
        "            out.write('{0},'.format(col))\n",
        "        out.write('\\n')"
      ]
    },
    {
      "cell_type": "code",
      "execution_count": null,
      "metadata": {
        "colab": {
          "base_uri": "https://localhost:8080/"
        },
        "id": "ZYKpo-fEZp4k",
        "outputId": "5acd642f-4c1b-4819-f30d-fe5ef94b3bc6"
      },
      "outputs": [
        {
          "name": "stdout",
          "output_type": "stream",
          "text": [
            "+---------------------------------+\n",
            "|VEH_BODY_STYL_ID                 |\n",
            "+---------------------------------+\n",
            "|BUS                              |\n",
            "|NA                               |\n",
            "|VAN                              |\n",
            "|PICKUP                           |\n",
            "|SPORT UTILITY VEHICLE            |\n",
            "|PASSENGER CAR, 4-DOOR            |\n",
            "|FIRE TRUCK                       |\n",
            "|TRUCK                            |\n",
            "|UNKNOWN                          |\n",
            "|AMBULANCE                        |\n",
            "|POLICE CAR/TRUCK                 |\n",
            "|MOTORCYCLE                       |\n",
            "|YELLOW SCHOOL BUS                |\n",
            "|PASSENGER CAR, 2-DOOR            |\n",
            "|TRUCK TRACTOR                    |\n",
            "|FARM EQUIPMENT                   |\n",
            "|NEV-NEIGHBORHOOD ELECTRIC VEHICLE|\n",
            "|OTHER  (EXPLAIN IN NARRATIVE)    |\n",
            "|POLICE MOTORCYCLE                |\n",
            "|NOT REPORTED                     |\n",
            "+---------------------------------+\n",
            "\n"
          ]
        }
      ],
      "source": [
        "Units_df.select(\"VEH_BODY_STYL_ID\").distinct().show(truncate = False)"
      ]
    },
    {
      "cell_type": "code",
      "execution_count": null,
      "metadata": {
        "id": "jWLPX1EsLHU0"
      },
      "outputs": [],
      "source": [
        "#How many two wheelers are booked for crashes\n",
        "Units_df.select(\"CRASH_ID\").filter(Units_df.VEH_BODY_STYL_ID.contains(\"MOTORCYCLE\")).distinct().count()\n"
      ]
    },
    {
      "cell_type": "code",
      "execution_count": null,
      "metadata": {
        "id": "yNREh1LbweIa"
      },
      "outputs": [],
      "source": [
        "Units_df.select(\"\")"
      ]
    },
    {
      "cell_type": "code",
      "execution_count": null,
      "metadata": {
        "id": "-O1kPGwRlb7x"
      },
      "outputs": [],
      "source": [
        "#Which state has highest number of accidents in which females are involved\n",
        "df = Primary_Person_df.select(\"*\").filter(col(\"PRSN_GNDR_ID\") == \"FEMALE\").groupby(\"DRVR_LIC_STATE_ID\").count().orderBy(col(\"count\").desc()).show()\n",
        "df"
      ]
    },
    {
      "cell_type": "code",
      "execution_count": null,
      "metadata": {
        "id": "ktcxNi-BOkxa"
      },
      "outputs": [],
      "source": [
        "Units_df.select(\"VEH_MAKE_ID\").distinct().show(truncate = False)"
      ]
    },
    {
      "cell_type": "code",
      "execution_count": null,
      "metadata": {
        "colab": {
          "base_uri": "https://localhost:8080/"
        },
        "id": "2-RHfbAF5W9v",
        "outputId": "4ffcce95-b3c0-41f4-839f-c55727ea33d1"
      },
      "outputs": [
        {
          "name": "stdout",
          "output_type": "stream",
          "text": [
            "+------------+-----+\n",
            "| VEH_MAKE_ID|total|\n",
            "+------------+-----+\n",
            "|       HONDA| 4469|\n",
            "|         GMC| 2065|\n",
            "|        JEEP| 1735|\n",
            "|     HYUNDAI| 1725|\n",
            "|         KIA| 1463|\n",
            "|    CHRYSLER| 1436|\n",
            "|FREIGHTLINER| 1219|\n",
            "|       MAZDA| 1078|\n",
            "|  VOLKSWAGEN|  947|\n",
            "|       LEXUS|  931|\n",
            "+------------+-----+\n",
            "\n"
          ]
        }
      ],
      "source": [
        "resultDf = Primary_Person_df.join(Units_df, on=[\"CRASH_ID\"], how='inner').filter((Units_df.VEH_MAKE_ID != \"NA\") & \\\n",
        "        ((Primary_Person_df.PRSN_INJRY_SEV_ID.contains(\"INJURY\"))| \\\n",
        "        (Primary_Person_df.PRSN_INJRY_SEV_ID == \"KILLED\"))).groupby(Units_df.VEH_MAKE_ID).count().withColumnRenamed(\"count\", \"total\").orderBy(\"total\")\n",
        "top15DF = resultDf.select(\"*\").orderBy(resultDf.total.desc()).limit(15)\n",
        "top5to15DF = top15DF.subtract(top15DF.limit(5))\n",
        "top5to15DF.show()"
      ]
    },
    {
      "cell_type": "code",
      "execution_count": null,
      "metadata": {
        "colab": {
          "base_uri": "https://localhost:8080/"
        },
        "id": "vME7e1lQ8di_",
        "outputId": "19e7e26f-41c4-4e1c-f218-cc11f3536f92"
      },
      "outputs": [
        {
          "name": "stdout",
          "output_type": "stream",
          "text": [
            "+-------------------------+\n",
            "|PRSN_INJRY_SEV_ID        |\n",
            "+-------------------------+\n",
            "|NA                       |\n",
            "|KILLED                   |\n",
            "|UNKNOWN                  |\n",
            "|NON-INCAPACITATING INJURY|\n",
            "|NOT INJURED              |\n",
            "|POSSIBLE INJURY          |\n",
            "|INCAPACITATING INJURY    |\n",
            "+-------------------------+\n",
            "\n"
          ]
        }
      ],
      "source": [
        "Primary_Person_df.select(\"PRSN_INJRY_SEV_ID\").distinct().show(truncate = False)"
      ]
    },
    {
      "cell_type": "code",
      "execution_count": null,
      "metadata": {
        "id": "rpgukS3qZqC5"
      },
      "outputs": [],
      "source": [
        "#Which are the Top 5th to 15th VEH_MAKE_IDs that contribute to a largest number of injuries including death\n"
      ]
    },
    {
      "cell_type": "code",
      "execution_count": null,
      "metadata": {
        "id": "ZPiTPtH0oLLV"
      },
      "outputs": [],
      "source": [
        "w = Window.partitionBy(\"VEH_BODY_STYL_ID\").orderBy(col(\"count\").desc())\n",
        "df = Units_df.join(Primary_Person_df, on=['CRASH_ID'], how='inner'). \\\n",
        "            filter(~Units_df.VEH_BODY_STYL_ID.isin([\"NA\", \"UNKNOWN\", \"NOT REPORTED\",\n",
        "                                                         \"OTHER  (EXPLAIN IN NARRATIVE)\"])). \\\n",
        "            filter(~Primary_Person_df.PRSN_ETHNICITY_ID.isin([\"NA\", \"UNKNOWN\"])). \\\n",
        "            groupby(\"VEH_BODY_STYL_ID\", \"PRSN_ETHNICITY_ID\").count(). \\\n",
        "            withColumn(\"row\", row_number().over(w)).filter(col(\"row\") == 1).drop(\"row\", \"count\")\n",
        "\n",
        "df.write.option(\"header\",True).csv(\"datacsv\")\n"
      ]
    },
    {
      "cell_type": "code",
      "execution_count": null,
      "metadata": {
        "colab": {
          "base_uri": "https://localhost:8080/"
        },
        "id": "LmJ1fkKFBD9R",
        "outputId": "8ee73530-e2cd-4309-88ef-e5f663114360"
      },
      "outputs": [
        {
          "name": "stdout",
          "output_type": "stream",
          "text": [
            "+---------------------------------------+\n",
            "|DAMAGED_PROPERTY                       |\n",
            "+---------------------------------------+\n",
            "|NO DAMAGES TO THE CITY POLE 214385     |\n",
            "|GUARD RAIL (POSSIBLE CONTACT-NO DAMAGE)|\n",
            "|LIGHT POLE- NO DAMAGE                  |\n",
            "|NO DAMAGE, SIGNAL LIGHT POLE           |\n",
            "|CONCRETE BARRIER-NO DAMAGE             |\n",
            "|NO DAMAGE TO BARRICADE                 |\n",
            "|CEMENT RETAINING WALL-NO DAMAGE        |\n",
            "|CONCRETE BARRIER-NO DAMAGE             |\n",
            "|CONCRETE MEDIAN (NO DAMAGE)            |\n",
            "|NO DAMAGE TO FENCE                     |\n",
            "+---------------------------------------+\n",
            "\n"
          ]
        }
      ],
      "source": [
        "Damages_df.select(\"DAMAGED_PROPERTY\").filter(col(\"DAMAGED_PROPERTY\").contains(\"NO DAMAGE\")).show(truncate = False)"
      ]
    },
    {
      "cell_type": "code",
      "execution_count": null,
      "metadata": {
        "id": "J-RlcaowEBzw"
      },
      "outputs": [],
      "source": [
        "joinedDF = Damages_df.join(Units_df, on=[\"CRASH_ID\"], how='inner')"
      ]
    },
    {
      "cell_type": "code",
      "execution_count": null,
      "metadata": {
        "colab": {
          "base_uri": "https://localhost:8080/"
        },
        "id": "5_0z_0sroLIy",
        "outputId": "82b29123-1d68-4577-8676-d2ae7dab7d58"
      },
      "outputs": [
        {
          "data": {
            "text/plain": [
              "192"
            ]
          },
          "execution_count": 77,
          "metadata": {},
          "output_type": "execute_result"
        }
      ],
      "source": [
        "Damages_df.join(Units_df, on=[\"CRASH_ID\"], how='inner'). \\\n",
        "filter(col(\"DAMAGED_PROPERTY\").contains(\"NONE\")).distinct().count()"
      ]
    },
    {
      "cell_type": "code",
      "execution_count": null,
      "metadata": {
        "colab": {
          "base_uri": "https://localhost:8080/"
        },
        "id": "5e-UcNcAF3St",
        "outputId": "a236acd8-e34d-4367-fba3-ddd263ed738e"
      },
      "outputs": [
        {
          "data": {
            "text/plain": [
              "2565"
            ]
          },
          "execution_count": 78,
          "metadata": {},
          "output_type": "execute_result"
        }
      ],
      "source": [
        "noDamagesDF = joinedDf. \\\n",
        "            filter((\n",
        "                col(\"DAMAGED_PROPERTY\").isin([\"NO DAMAGE\",\"NONE\"])\n",
        "            ) | ((\n",
        "                col(\"VEH_DMAG_SCL_1_ID\").isin([\"NA\", \"NO DAMAGE\", \"INVALID VALUE\"])\n",
        "            ) & (\n",
        "                col(\"VEH_DMAG_SCL_2_ID\").isin([\"NA\", \"NO DAMAGE\", \"INVALID VALUE\"])\n",
        "            ))).distinct().count()\n",
        "noDamagesDF"
      ]
    },
    {
      "cell_type": "code",
      "execution_count": null,
      "metadata": {
        "colab": {
          "base_uri": "https://localhost:8080/"
        },
        "id": "-fqTPcS0GlMx",
        "outputId": "44921985-ba66-4f21-9225-f69f9bd2897a"
      },
      "outputs": [
        {
          "data": {
            "text/plain": [
              "6380"
            ]
          },
          "execution_count": 76,
          "metadata": {},
          "output_type": "execute_result"
        }
      ],
      "source": [
        "damageLevelAbove4 = joinedDf. \\\n",
        "            filter((\n",
        "                (col(\"VEH_DMAG_SCL_1_ID\") > \"DAMAGED 4\") &\n",
        "                (~col(\"VEH_DMAG_SCL_1_ID\").isin([\"NA\", \"NO DAMAGE\", \"INVALID VALUE\"]))\n",
        "            ) | (\n",
        "                (col(\"VEH_DMAG_SCL_2_ID\") > \"DAMAGED 4\") &\n",
        "                (~col(\"VEH_DMAG_SCL_2_ID\").isin([\"NA\", \"NO DAMAGE\", \"INVALID VALUE\"]))\n",
        "            )).distinct().count()\n",
        "\n",
        "damageLevelAbove4"
      ]
    },
    {
      "cell_type": "code",
      "execution_count": null,
      "metadata": {
        "colab": {
          "base_uri": "https://localhost:8080/"
        },
        "id": "WmP9ptZlIl7j",
        "outputId": "9729b4a7-b75e-483b-8dbf-c1627d353279"
      },
      "outputs": [
        {
          "name": "stdout",
          "output_type": "stream",
          "text": [
            "+----------------------------------------+\n",
            "|FIN_RESP_TYPE_ID                        |\n",
            "+----------------------------------------+\n",
            "|INSURANCE BINDER                        |\n",
            "|LIABILITY INSURANCE POLICY              |\n",
            "|NA                                      |\n",
            "|CERTIFICATE OF SELF-INSURANCE           |\n",
            "|CERTIFICATE OF DEPOSIT WITH COUNTY JUDGE|\n",
            "|CERTIFICATE OF DEPOSIT WITH COMPTROLLER |\n",
            "|SURETY BOND                             |\n",
            "|PROOF OF LIABILITY INSURANCE            |\n",
            "+----------------------------------------+\n",
            "\n"
          ]
        }
      ],
      "source": [
        "Units_df.select(\"FIN_RESP_TYPE_ID\").distinct().show(truncate=False)"
      ]
    },
    {
      "cell_type": "code",
      "execution_count": null,
      "metadata": {
        "colab": {
          "base_uri": "https://localhost:8080/"
        },
        "id": "bm8xumuWIMRh",
        "outputId": "18c83c8f-e53e-4868-dd48-e32d158988ad"
      },
      "outputs": [
        {
          "data": {
            "text/plain": [
              "11804"
            ]
          },
          "execution_count": 81,
          "metadata": {},
          "output_type": "execute_result"
        }
      ],
      "source": [
        "insuranceCarsDF = joinedDf. \\\n",
        "            filter((\n",
        "                col(\"VEH_BODY_STYL_ID\").contains(\"CAR\")\n",
        "                ) & (\n",
        "                col(\"FIN_RESP_TYPE_ID\") != \"NA\")\n",
        "            ).distinct().count()\n",
        "insuranceCarsDF"
      ]
    },
    {
      "cell_type": "code",
      "execution_count": null,
      "metadata": {
        "colab": {
          "base_uri": "https://localhost:8080/"
        },
        "id": "Nt17zScxoLGm",
        "outputId": "0fdbff83-5cf7-4537-f6aa-0d105b0fa6bf"
      },
      "outputs": [
        {
          "data": {
            "text/plain": [
              "5"
            ]
          },
          "execution_count": 86,
          "metadata": {},
          "output_type": "execute_result"
        }
      ],
      "source": [
        "joinedDf. \\\n",
        "            filter((\n",
        "                col(\"DAMAGED_PROPERTY\").isin([\"NO DAMAGE\",\"NONE\"])\n",
        "            ) & ((\n",
        "                (col(\"VEH_DMAG_SCL_1_ID\") > \"DAMAGED 4\") &\n",
        "                (~col(\"VEH_DMAG_SCL_1_ID\").isin([\"NA\", \"NO DAMAGE\", \"INVALID VALUE\"]))\n",
        "            ) | (\n",
        "                (col(\"VEH_DMAG_SCL_2_ID\") > \"DAMAGED 4\") &\n",
        "                (~col(\"VEH_DMAG_SCL_2_ID\").isin([\"NA\", \"NO DAMAGE\", \"INVALID VALUE\"]))\n",
        "            )) & ((\n",
        "                col(\"VEH_BODY_STYL_ID\").contains(\"CAR\")\n",
        "                ) & (\n",
        "                col(\"FIN_RESP_TYPE_ID\") != \"NA\")\n",
        "            )).count()"
      ]
    },
    {
      "cell_type": "code",
      "execution_count": null,
      "metadata": {
        "colab": {
          "base_uri": "https://localhost:8080/"
        },
        "id": "qPXtsM3LoLEH",
        "outputId": "845b000b-c9e2-41f9-a063-79d6c5ff1a39"
      },
      "outputs": [
        {
          "data": {
            "text/plain": [
              "4"
            ]
          },
          "execution_count": 90,
          "metadata": {},
          "output_type": "execute_result"
        }
      ],
      "source": [
        "noDamagesDF = joinedDF. \\\n",
        "            filter(col(\"DAMAGED_PROPERTY\").isin([\"NO DAMAGE\",\"NONE\"]))\n",
        "\n",
        "damageLevelAbove4DF = joinedDF. \\\n",
        "            filter((\n",
        "                (col(\"VEH_DMAG_SCL_1_ID\") > \"DAMAGED 4\") &\n",
        "                (~col(\"VEH_DMAG_SCL_1_ID\").isin([\"NA\", \"NO DAMAGE\", \"INVALID VALUE\"]))\n",
        "            ) | (\n",
        "                (col(\"VEH_DMAG_SCL_2_ID\") > \"DAMAGED 4\") &\n",
        "                (~col(\"VEH_DMAG_SCL_2_ID\").isin([\"NA\", \"NO DAMAGE\", \"INVALID VALUE\"]))\n",
        "            ))\n",
        "        \n",
        "insuranceCarsDF = joinedDF. \\\n",
        "            filter((\n",
        "                col(\"VEH_BODY_STYL_ID\").contains(\"CAR\")\n",
        "                ) & (\n",
        "                col(\"FIN_RESP_TYPE_ID\") != \"NA\")\n",
        "            )\n",
        "allConditions = insuranceCarsDF.join(damageLevelAbove4DF, on = ['CRASH_ID'], how ='inner').join(noDamagesDF, on = ['CRASH_ID'], how ='inner')\n",
        "allConditions.select(\"CRASH_ID\").distinct().count()\n"
      ]
    },
    {
      "cell_type": "code",
      "execution_count": null,
      "metadata": {
        "colab": {
          "base_uri": "https://localhost:8080/"
        },
        "id": "r-s1WhZoPuuk",
        "outputId": "216aa20a-a495-40b5-ff68-e79539660cb2"
      },
      "outputs": [
        {
          "name": "stdout",
          "output_type": "stream",
          "text": [
            "+-----------+-----+\n",
            "|VEH_MAKE_ID|count|\n",
            "+-----------+-----+\n",
            "|       FORD|18425|\n",
            "|  CHEVROLET|16191|\n",
            "|     TOYOTA|11384|\n",
            "|      DODGE| 7693|\n",
            "|     NISSAN| 7047|\n",
            "+-----------+-----+\n",
            "\n"
          ]
        }
      ],
      "source": [
        "top_25_state_list = [row[0] for row in Units_df.filter(col(\"VEH_LIC_STATE_ID\").cast(\"int\").isNull()).\n",
        "            groupby(\"VEH_LIC_STATE_ID\").count().orderBy(col(\"count\").desc()).limit(25).collect()]\n",
        "top_10_used_vehicle_colors = [row[0] for row in Units_df.filter(Units_df.VEH_COLOR_ID != \"NA\").\n",
        "            groupby(\"VEH_COLOR_ID\").count().orderBy(col(\"count\").desc()).limit(10).collect()]\n",
        "\n",
        "resultDF = Charges_df.join(Primary_Person_df, on=['CRASH_ID'], how='inner'). \\\n",
        "            join(Units_df, on=['CRASH_ID'], how='inner'). \\\n",
        "            filter(Charges_df.CHARGE.contains(\"SPEED\")). \\\n",
        "            filter(Primary_Person_df.DRVR_LIC_TYPE_ID.isin([\"DRIVER LICENSE\", \"COMMERCIAL DRIVER LIC.\"])). \\\n",
        "            filter(Units_df.VEH_COLOR_ID.isin(top_10_used_vehicle_colors)). \\\n",
        "            filter(Units_df.VEH_LIC_STATE_ID.isin(top_25_state_list)). \\\n",
        "            groupby(\"VEH_MAKE_ID\").count(). \\\n",
        "            orderBy(col(\"count\").desc()).limit(5)\n",
        "resultDF.show()"
      ]
    },
    {
      "cell_type": "markdown",
      "metadata": {
        "id": "9oDQzGl9oLrB"
      },
      "source": [
        "# test"
      ]
    },
    {
      "cell_type": "code",
      "execution_count": 5,
      "metadata": {
        "id": "i4fgN9x0C7TR"
      },
      "outputs": [
        {
          "name": "stdout",
          "output_type": "stream",
          "text": [
            " Volume in drive D has no label.\n",
            " Volume Serial Number is 64BC-7D55\n",
            "\n",
            " Directory of d:\\BCG_Assignment\n",
            "\n",
            "06-02-2023  17:20    <DIR>          .\n",
            "06-02-2023  17:20    <DIR>          ..\n",
            "05-02-2023  14:15                 0 .gitignore\n",
            "06-02-2023  16:18               800 config.yaml\n",
            "06-02-2023  17:08    <DIR>          Data\n",
            "06-02-2023  17:40            61,180 InitialAnalysisPlayground.ipynb\n",
            "06-02-2023  17:05               536 main.py\n",
            "06-02-2023  16:40               147 Makefile\n",
            "06-02-2023  17:04    <DIR>          Output\n",
            "06-02-2023  17:36             2,562 README.md\n",
            "06-02-2023  17:39                43 requirements.txt\n",
            "06-02-2023  17:04    <DIR>          src\n",
            "               7 File(s)         65,268 bytes\n",
            "               5 Dir(s)  142,053,920,768 bytes free\n"
          ]
        }
      ],
      "source": [
        "!ls"
      ]
    },
    {
      "cell_type": "code",
      "execution_count": 6,
      "metadata": {
        "id": "EmbbWxLSWJfB"
      },
      "outputs": [
        {
          "name": "stdout",
          "output_type": "stream",
          "text": [
            "[WinError 2] The system cannot find the file specified: 'BCG_Assignment'\n",
            "d:\\BCG_Assignment\n"
          ]
        }
      ],
      "source": [
        "%cd ..\n"
      ]
    },
    {
      "cell_type": "code",
      "execution_count": 116,
      "metadata": {
        "id": "1q5Xra24V_yQ"
      },
      "outputs": [],
      "source": [
        "!rm -rf *.csv\n",
        "#!rm -rf BCG_assignment"
      ]
    },
    {
      "cell_type": "code",
      "execution_count": 118,
      "metadata": {
        "colab": {
          "base_uri": "https://localhost:8080/"
        },
        "id": "unqOATyQGBBY",
        "outputId": "5366337e-9b76-4b4c-ad9e-cf505479dcb1"
      },
      "outputs": [
        {
          "name": "stdout",
          "output_type": "stream",
          "text": [
            "Archive:  BCG_assignment.zip\n",
            " extracting: BCG_assignment/.gitignore  \n",
            "  inflating: BCG_assignment/config.yaml  \n",
            "   creating: BCG_assignment/Data/\n",
            "  inflating: BCG_assignment/Data/Charges_use.csv  \n",
            "  inflating: BCG_assignment/Data/Damages_use.csv  \n",
            "  inflating: BCG_assignment/Data/Endorse_use.csv  \n",
            "  inflating: BCG_assignment/Data/Primary_Person_use.csv  \n",
            "  inflating: BCG_assignment/Data/Restrict_use.csv  \n",
            "  inflating: BCG_assignment/Data/Units_use.csv  \n",
            "  inflating: BCG_assignment/main.py  \n",
            "  inflating: BCG_assignment/Makefile  \n",
            "  inflating: BCG_assignment/README.md  \n",
            "   creating: BCG_assignment/src/\n",
            "   creating: BCG_assignment/src/utilities/\n",
            "  inflating: BCG_assignment/src/utilities/analyzer.py  \n",
            "  inflating: BCG_assignment/src/utilities/utils.py  \n",
            "/content/BCG_assignment\n"
          ]
        }
      ],
      "source": [
        "!unzip BCG_assignment.zip\n",
        "%cd BCG_assignment"
      ]
    },
    {
      "cell_type": "code",
      "execution_count": 119,
      "metadata": {
        "colab": {
          "base_uri": "https://localhost:8080/"
        },
        "id": "ZFL4i1D2NsrP",
        "outputId": "02cacb04-f862-46db-ded7-2b20eb1d803a"
      },
      "outputs": [
        {
          "name": "stdout",
          "output_type": "stream",
          "text": [
            "make: Warning: File 'Makefile' has modification time 19306 s in the future\n",
            "rm -rf dist\n",
            "rm -rf Output\n",
            "mkdir app\n",
            "cp main.py ./app\n",
            "cp config.yaml ./app\n",
            "cp -r Data ./app\n",
            "cd src && zip -r ../app/src.zip .\n",
            "  adding: utilities/ (stored 0%)\n",
            "  adding: utilities/utils.py (deflated 60%)\n",
            "  adding: utilities/analyzer.py (deflated 76%)\n",
            "make: warning:  Clock skew detected.  Your build may be incomplete.\n"
          ]
        }
      ],
      "source": [
        "!make build"
      ]
    },
    {
      "cell_type": "code",
      "execution_count": 121,
      "metadata": {
        "colab": {
          "base_uri": "https://localhost:8080/"
        },
        "id": "B_BuWUBGNu9T",
        "outputId": "fb7a6bd9-44bb-40b1-c43c-0c52b41f5690"
      },
      "outputs": [
        {
          "name": "stdout",
          "output_type": "stream",
          "text": [
            "23/02/06 11:19:17 WARN NativeCodeLoader: Unable to load native-hadoop library for your platform... using builtin-java classes where applicable\n",
            "23/02/06 11:19:18 INFO SparkContext: Running Spark version 3.3.1\n",
            "23/02/06 11:19:18 INFO ResourceUtils: ==============================================================\n",
            "23/02/06 11:19:18 INFO ResourceUtils: No custom resources configured for spark.driver.\n",
            "23/02/06 11:19:18 INFO ResourceUtils: ==============================================================\n",
            "23/02/06 11:19:18 INFO SparkContext: Submitted application: USVehicleAccidentAnalysis\n",
            "23/02/06 11:19:18 INFO ResourceProfile: Default ResourceProfile created, executor resources: Map(cores -> name: cores, amount: 1, script: , vendor: , memory -> name: memory, amount: 1024, script: , vendor: , offHeap -> name: offHeap, amount: 0, script: , vendor: ), task resources: Map(cpus -> name: cpus, amount: 1.0)\n",
            "23/02/06 11:19:18 INFO ResourceProfile: Limiting resource is cpu\n",
            "23/02/06 11:19:18 INFO ResourceProfileManager: Added ResourceProfile id: 0\n",
            "23/02/06 11:19:18 INFO SecurityManager: Changing view acls to: root\n",
            "23/02/06 11:19:18 INFO SecurityManager: Changing modify acls to: root\n",
            "23/02/06 11:19:18 INFO SecurityManager: Changing view acls groups to: \n",
            "23/02/06 11:19:18 INFO SecurityManager: Changing modify acls groups to: \n",
            "23/02/06 11:19:18 INFO SecurityManager: SecurityManager: authentication disabled; ui acls disabled; users  with view permissions: Set(root); groups with view permissions: Set(); users  with modify permissions: Set(root); groups with modify permissions: Set()\n",
            "23/02/06 11:19:18 INFO Utils: Successfully started service 'sparkDriver' on port 44499.\n",
            "23/02/06 11:19:18 INFO SparkEnv: Registering MapOutputTracker\n",
            "23/02/06 11:19:18 INFO SparkEnv: Registering BlockManagerMaster\n",
            "23/02/06 11:19:18 INFO BlockManagerMasterEndpoint: Using org.apache.spark.storage.DefaultTopologyMapper for getting topology information\n",
            "23/02/06 11:19:18 INFO BlockManagerMasterEndpoint: BlockManagerMasterEndpoint up\n",
            "23/02/06 11:19:18 INFO SparkEnv: Registering BlockManagerMasterHeartbeat\n",
            "23/02/06 11:19:18 INFO DiskBlockManager: Created local directory at /tmp/blockmgr-d96b9d37-ac66-45ad-ba91-386420fbc7bb\n",
            "23/02/06 11:19:18 INFO MemoryStore: MemoryStore started with capacity 434.4 MiB\n",
            "23/02/06 11:19:18 INFO SparkEnv: Registering OutputCommitCoordinator\n",
            "23/02/06 11:19:19 WARN Utils: Service 'SparkUI' could not bind on port 4040. Attempting port 4041.\n",
            "23/02/06 11:19:19 INFO Utils: Successfully started service 'SparkUI' on port 4041.\n",
            "23/02/06 11:19:19 INFO SparkContext: Added file file:///content/BCG_assignment/app/config.yaml at file:///content/BCG_assignment/app/config.yaml with timestamp 1675682358028\n",
            "23/02/06 11:19:19 INFO Utils: Copying /content/BCG_assignment/app/config.yaml to /tmp/spark-624d0691-0a94-4583-a6bd-cd25f103417a/userFiles-a27e5835-5405-47ff-9a9d-950f82c055d4/config.yaml\n",
            "23/02/06 11:19:19 INFO SparkContext: Added file file:///content/BCG_assignment/app/src.zip at file:///content/BCG_assignment/app/src.zip with timestamp 1675682358028\n",
            "23/02/06 11:19:19 INFO Utils: Copying /content/BCG_assignment/app/src.zip to /tmp/spark-624d0691-0a94-4583-a6bd-cd25f103417a/userFiles-a27e5835-5405-47ff-9a9d-950f82c055d4/src.zip\n",
            "23/02/06 11:19:19 INFO Executor: Starting executor ID driver on host 52eadc8d4ea1\n",
            "23/02/06 11:19:19 INFO Executor: Starting executor with user classpath (userClassPathFirst = false): ''\n",
            "23/02/06 11:19:19 INFO Executor: Fetching file:///content/BCG_assignment/app/config.yaml with timestamp 1675682358028\n",
            "23/02/06 11:19:19 INFO Utils: /content/BCG_assignment/app/config.yaml has been previously copied to /tmp/spark-624d0691-0a94-4583-a6bd-cd25f103417a/userFiles-a27e5835-5405-47ff-9a9d-950f82c055d4/config.yaml\n",
            "23/02/06 11:19:19 INFO Executor: Fetching file:///content/BCG_assignment/app/src.zip with timestamp 1675682358028\n",
            "23/02/06 11:19:19 INFO Utils: /content/BCG_assignment/app/src.zip has been previously copied to /tmp/spark-624d0691-0a94-4583-a6bd-cd25f103417a/userFiles-a27e5835-5405-47ff-9a9d-950f82c055d4/src.zip\n",
            "23/02/06 11:19:19 INFO Utils: Successfully started service 'org.apache.spark.network.netty.NettyBlockTransferService' on port 37079.\n",
            "23/02/06 11:19:19 INFO NettyBlockTransferService: Server created on 52eadc8d4ea1:37079\n",
            "23/02/06 11:19:19 INFO BlockManager: Using org.apache.spark.storage.RandomBlockReplicationPolicy for block replication policy\n",
            "23/02/06 11:19:19 INFO BlockManagerMaster: Registering BlockManager BlockManagerId(driver, 52eadc8d4ea1, 37079, None)\n",
            "23/02/06 11:19:19 INFO BlockManagerMasterEndpoint: Registering block manager 52eadc8d4ea1:37079 with 434.4 MiB RAM, BlockManagerId(driver, 52eadc8d4ea1, 37079, None)\n",
            "23/02/06 11:19:19 INFO BlockManagerMaster: Registered BlockManager BlockManagerId(driver, 52eadc8d4ea1, 37079, None)\n",
            "23/02/06 11:19:19 INFO BlockManager: Initialized BlockManager: BlockManagerId(driver, 52eadc8d4ea1, 37079, None)\n",
            "*******************-Ananlysis Started-*******************\n",
            "\n",
            "\n",
            "1. Fatal male accidents: \n",
            "+----------------------+\n",
            "|TOTAL_MALE_CASUALITIES|\n",
            "+----------------------+\n",
            "|182                   |\n",
            "+----------------------+\n",
            "\n",
            "\n",
            "\n",
            "2. Number of two wheelers booked for crashed: \n",
            "+-----------------------------------+\n",
            "|TOTAL_TWO_WHEELER_INVOLVED_IN_CRASH|\n",
            "+-----------------------------------+\n",
            "|757                                |\n",
            "+-----------------------------------+\n",
            "\n",
            "\n",
            "\n",
            "3. States with the highest number of female accidents: \n",
            "+------------------------------------------+\n",
            "|STATE_WITH_HIGHEST_FEMALE_CAUSED_ACCIDENTS|\n",
            "+------------------------------------------+\n",
            "|Texas                                     |\n",
            "+------------------------------------------+\n",
            "\n",
            "\n",
            "\n",
            "4. Top 5th to 15th VEH_MAKE_IDs that contribute to a largest number of injuries including death: \n",
            "+------------+\n",
            "|VEH_MAKE_ID |\n",
            "+------------+\n",
            "|HONDA       |\n",
            "|GMC         |\n",
            "|JEEP        |\n",
            "|HYUNDAI     |\n",
            "|KIA         |\n",
            "|CHRYSLER    |\n",
            "|FREIGHTLINER|\n",
            "|MAZDA       |\n",
            "|VOLKSWAGEN  |\n",
            "|LEXUS       |\n",
            "+------------+\n",
            "\n",
            "\n",
            "\n",
            "5. For all the body styles involved in crashes, mentioned the top ethnic user group of each unique body style :\n",
            "+---------------------------------+-----------------+\n",
            "|VEH_BODY_STYL_ID                 |PRSN_ETHNICITY_ID|\n",
            "+---------------------------------+-----------------+\n",
            "|AMBULANCE                        |WHITE            |\n",
            "|BUS                              |HISPANIC         |\n",
            "|FARM EQUIPMENT                   |WHITE            |\n",
            "|FIRE TRUCK                       |WHITE            |\n",
            "|MOTORCYCLE                       |WHITE            |\n",
            "|NEV-NEIGHBORHOOD ELECTRIC VEHICLE|WHITE            |\n",
            "|PASSENGER CAR, 2-DOOR            |WHITE            |\n",
            "|PASSENGER CAR, 4-DOOR            |WHITE            |\n",
            "|PICKUP                           |WHITE            |\n",
            "|POLICE CAR/TRUCK                 |WHITE            |\n",
            "|POLICE MOTORCYCLE                |HISPANIC         |\n",
            "|SPORT UTILITY VEHICLE            |WHITE            |\n",
            "|TRUCK                            |WHITE            |\n",
            "|TRUCK TRACTOR                    |WHITE            |\n",
            "|VAN                              |WHITE            |\n",
            "|YELLOW SCHOOL BUS                |WHITE            |\n",
            "+---------------------------------+-----------------+\n",
            "\n",
            "\n",
            "\n",
            "6. Top 5 Zip Codes with highest number crashes with alcohols as the contributing factor to a crash :\n",
            "+--------+\n",
            "|DRVR_ZIP|\n",
            "+--------+\n",
            "|76010   |\n",
            "|75052   |\n",
            "|78521   |\n",
            "|75067   |\n",
            "|76017   |\n",
            "+--------+\n",
            "\n",
            "\n",
            "\n",
            "7. Count of Distinct Crash IDs where No Damaged Property was observed and Damage Level (VEH_DMAG_SCL~) is above 4 and car avails Insurance :\n",
            "+-------------------------------+--------------------------+\n",
            "|GIVEN_FACTORS                  |COUNT_OF_MATCHING_CRITERIA|\n",
            "+-------------------------------+--------------------------+\n",
            "|No Damage In Distinct Crash    |88                        |\n",
            "|Damage Level Above 4           |4867                      |\n",
            "|Cars with Insurance            |9587                      |\n",
            "|Satisfying All Above Conditions|4                         |\n",
            "+-------------------------------+--------------------------+\n",
            "\n",
            "\n",
            "\n",
            "7. Determines the Top 5 Vehicle Makes/Brands where drivers are charged with speeding related offences,\n",
            " has licensed Drivers, uses top 10 used vehicle colours and has car licensed with the Top 25 states \n",
            " with highest number of offences : \n",
            "+-----------+\n",
            "|VEH_MAKE_ID|\n",
            "+-----------+\n",
            "|FORD       |\n",
            "|CHEVROLET  |\n",
            "|TOYOTA     |\n",
            "|DODGE      |\n",
            "|NISSAN     |\n",
            "+-----------+\n",
            "\n",
            "\n",
            "\n",
            "*******************-Ananlysis End-*******************\n"
          ]
        }
      ],
      "source": [
        "!cd app && spark-submit --master \"local[*]\" --py-files src.zip --files config.yaml main.py && cd .."
      ]
    },
    {
      "cell_type": "code",
      "execution_count": null,
      "metadata": {
        "id": "uvr7AEkxSm1l"
      },
      "outputs": [],
      "source": [
        "!rm -rf Output"
      ]
    },
    {
      "cell_type": "code",
      "execution_count": null,
      "metadata": {
        "id": "lt4mN-ecayUs"
      },
      "outputs": [],
      "source": []
    }
  ],
  "metadata": {
    "colab": {
      "provenance": []
    },
    "kernelspec": {
      "display_name": "Python 3.10.7 64-bit",
      "language": "python",
      "name": "python3"
    },
    "language_info": {
      "codemirror_mode": {
        "name": "ipython",
        "version": 3
      },
      "file_extension": ".py",
      "mimetype": "text/x-python",
      "name": "python",
      "nbconvert_exporter": "python",
      "pygments_lexer": "ipython3",
      "version": "3.10.7"
    },
    "vscode": {
      "interpreter": {
        "hash": "a42ccb73e7d9bfdf27e036f1d2b8b681e55fc0743cc5586bc2474d4a60f4b886"
      }
    }
  },
  "nbformat": 4,
  "nbformat_minor": 0
}
